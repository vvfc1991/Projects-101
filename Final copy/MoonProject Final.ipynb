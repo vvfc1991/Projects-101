{
 "cells": [
  {
   "cell_type": "markdown",
   "id": "e3008220",
   "metadata": {},
   "source": [
    "# Luna Project"
   ]
  },
  {
   "cell_type": "markdown",
   "id": "76f43e81",
   "metadata": {},
   "source": [
    "We obtained data of the SP500 index, Bitcoin, Ethereum, the weather and calculated the moon phases to determine if there's a correlation between each of these assets and the weather or the moon."
   ]
  },
  {
   "cell_type": "markdown",
   "id": "99663c10",
   "metadata": {},
   "source": [
    "# OBTAINING MOON DATA"
   ]
  },
  {
   "cell_type": "code",
   "execution_count": null,
   "id": "fc76c6f9",
   "metadata": {},
   "outputs": [],
   "source": [
    "import ephem\n",
    "from datetime import datetime, timedelta\n",
    "import pandas as pd\n",
    "\n",
    "def calculate_moon_phase(date):\n",
    "    known_new_moon_date = ephem.Date(\"2014-01-01\")  # Replace with an actual known New Moon date\n",
    "    days_since_new_moon = int(date - known_new_moon_date)\n",
    "    lunar_cycle = 29.53 # How it was gotten? what is this?\n",
    "    moon_phase = days_since_new_moon % lunar_cycle\n",
    "\n",
    "    if moon_phase < 1.845:\n",
    "        return \"New Moon\"\n",
    "    elif moon_phase < 5.555:\n",
    "        return \"Waxing Crescent\"\n",
    "    elif moon_phase < 9.265:\n",
    "        return \"First Quarter\"\n",
    "    elif moon_phase < 12.975:\n",
    "        return \"Waxing Gibbous\"\n",
    "    elif moon_phase < 16.685:\n",
    "        return \"Full Moon\"\n",
    "    elif moon_phase < 20.395:\n",
    "        return \"Waning Gibbous\"\n",
    "    elif moon_phase < 24.105:\n",
    "        return \"Last Quarter\"\n",
    "    elif moon_phase < 27.815:\n",
    "        return \"Waning Crescent\"\n",
    "    else:\n",
    "        return \"New Moon\"\n",
    "\n",
    "# Initialize an empty list to store results\n",
    "results = []\n",
    "\n",
    "# Example usage for a range of dates\n",
    "start_date = datetime(2014, 1, 1)\n",
    "end_date = datetime(2024, 1, 31)\n",
    "\n",
    "current_date = start_date\n",
    "while current_date <= end_date:\n",
    "    date_str = current_date.strftime(\"%Y-%m-%d\")\n",
    "    moon_phase_result = calculate_moon_phase(ephem.Date(date_str))\n",
    "    results.append({\"Date\": date_str, \"Moon Phase\": moon_phase_result})\n",
    "    current_date += timedelta(days=1)\n",
    "\n",
    "# Convert the results list to a pandas DataFrame\n",
    "df = pd.DataFrame(results)\n",
    "\n",
    "# Print the DataFrame\n",
    "print(df)"
   ]
  },
  {
   "cell_type": "markdown",
   "id": "e2ac74ef",
   "metadata": {},
   "source": [
    "# Obtaining S&P500 data via AlphaVantage API"
   ]
  },
  {
   "cell_type": "code",
   "execution_count": null,
   "id": "ba0311e8",
   "metadata": {},
   "outputs": [],
   "source": [
    "#import requests\n",
    "\n",
    "#token = \"GET YOUR OWN!!!!!\"\n",
    "\n",
    "#url = \"https://www.alphavantage.co/query\"\n",
    "#params = {\"apikey\":token,\n",
    "        # \"function\":\"TIME_SERIES_DAILY\",\n",
    "        # \"symbol\":\"SPY\",\n",
    "        # \"outputsize\":\"full\"}\n",
    "\n",
    "#r_spy = requests.get(url,params=params)\n",
    "#r_spy.json().keys()\n"
   ]
  },
  {
   "cell_type": "code",
   "execution_count": null,
   "id": "e2e1e72a",
   "metadata": {},
   "outputs": [],
   "source": [
    "#import pandas as pd\n",
    "#spy_data = pd.DataFrame(r_spy.json()['Time Series (Daily)']).T\n",
    "#spy_data"
   ]
  },
  {
   "cell_type": "code",
   "execution_count": null,
   "id": "b3e650a9",
   "metadata": {},
   "outputs": [],
   "source": []
  },
  {
   "cell_type": "markdown",
   "id": "5ca4c2d1",
   "metadata": {},
   "source": [
    "# Obtain SPY, BTC, ETH, Moon and NY temp"
   ]
  },
  {
   "cell_type": "markdown",
   "id": "7a343f90",
   "metadata": {},
   "source": [
    "Data is available for download.\n",
    "Files are the following:\n",
    "\n",
    "- btc_nomoon.csv\n",
    "- moons.csv\n",
    "- eth_nomoons.csv\n",
    "- nytemps.csv\n",
    "- sp500_nomoon.csv\n"
   ]
  },
  {
   "cell_type": "code",
   "execution_count": null,
   "id": "d5a4225a",
   "metadata": {},
   "outputs": [],
   "source": [
    "btc = pd.read_csv(\"C:\\\\Users\\\\PUT YOUR PATH\\\\OneDrive\\\\Escritorio\\\\IRONhack\\\\Week 3\\\\projet\\\\btc_nomoon.csv\")\n",
    "eth = pd.read_csv(\"C:\\\\Users\\\\PUT YOUR PATH\\\\OneDrive\\\\Escritorio\\\\IRONhack\\\\Week 3\\\\projet\\\\eth_nomoons.csv\")\n",
    "sp500 = pd.read_csv(\"C:\\\\Users\\\\PUT YOUR PATH\\\\OneDrive\\\\Escritorio\\\\IRONhack\\\\Week 3\\\\projet\\\\sp500_nomoon.csv\")\n",
    "moons = pd.read_csv(\"C:\\\\Users\\\\PUT YOUR PATH\\\\OneDrive\\\\Escritorio\\\\IRONhack\\\\Week 3\\\\projet\\\\moons.csv\")\n",
    "nytemps = pd.read_csv(\"C:\\\\Users\\\\PUT YOUR path\\\\OneDrive\\\\Escritorio\\\\IRONhack\\\\Week 3\\\\projet\\\\nytemps.csv\")"
   ]
  },
  {
   "cell_type": "markdown",
   "id": "81eea113",
   "metadata": {},
   "source": [
    "# Obtaining Correlations"
   ]
  },
  {
   "cell_type": "code",
   "execution_count": null,
   "id": "6760689f",
   "metadata": {},
   "outputs": [],
   "source": [
    "#Adding tickers/lastminute cleaning\n",
    "#Maybe a function could be usefull to have less repetition\n",
    "\n",
    "btc[\"%24H\"] = btc[\"%24H\"].abs()\n",
    "eth[\"%24H\"] = eth[\"%24H\"].abs()\n",
    "\n",
    "sp500['daily_return']=sp500['daily_return'] * 100\n",
    "sp500 = sp500.rename(columns={'daily_return': '%24H'})\n",
    "sp500[\"%24H\"] = sp500[\"%24H\"].abs()\n",
    "sp500 = sp500.rename(columns={'date': 'Date'})\n",
    "\n",
    "sp500 = sp500.rename(columns={'%24H': '%Volatility'})\n",
    "eth = eth.rename(columns={'%24H': '%Volatility'})\n",
    "btc = btc.rename(columns={'%24H': '%Volatility'})\n",
    "\n",
    "nytemps = nytemps.rename(columns={'date': 'Date'})\n",
    "nytemps[\"avg_temp\"] = (nytemps[\"avg_temp\"]-32)*5/9#Converting to celsius\n",
    "nytemps = nytemps.rename(columns={'avg_temp': 'Temperature/Cº'})\n",
    "\n",
    "mergedbtc = pd.merge(btc,nytemps,on=\"Date\")\n",
    "mergedsp500 = pd.merge(sp500,nytemps,on=\"Date\")\n",
    "mergedeth = pd.merge(eth,nytemps,on=\"Date\")\n",
    "\n",
    "btc = pd.merge(mergedbtc,moons,on=\"Date\")\n",
    "eth = pd.merge(mergedeth,moons,on=\"Date\")\n",
    "sp500 = pd.merge(mergedsp500,moons,on=\"Date\")\n",
    "\n",
    "btc.set_index(\"Date\",inplace=True)\n",
    "eth.set_index(\"Date\",inplace=True)\n",
    "sp500.set_index(\"Date\",inplace=True)\n",
    "\n",
    "btcorr = btc.corr()\n",
    "ethcorr = eth.corr()\n",
    "sp500corr = sp500.corr()"
   ]
  },
  {
   "cell_type": "markdown",
   "id": "1d9d6f36",
   "metadata": {},
   "source": [
    "# Clean/order le data"
   ]
  },
  {
   "cell_type": "code",
   "execution_count": null,
   "id": "e43dc5e8",
   "metadata": {},
   "outputs": [],
   "source": [
    "def clean_btcethdata(x):\n",
    "    # Drop columns: 'Waxing Gibbous', 'Waxing Crescent' and 9 other columns\n",
    "    x = x.drop(columns=['Waxing Gibbous', 'Waxing Crescent', \n",
    "                                  'Waning Gibbous', 'Waning Crescent', \n",
    "                                  'New Moon', 'Last Quarter', 'Full Moon', \n",
    "                                  'First Quarter', 'Temperature/Cº', 'Open', 'Close'])\n",
    "    return x\n",
    "\n",
    "clean_data(btcorr)  #Where is the function???"
   ]
  },
  {
   "cell_type": "code",
   "execution_count": null,
   "id": "abc43f9d",
   "metadata": {},
   "outputs": [],
   "source": [
    "def clean_spydata(x):\n",
    "    # Drop columns: 'Waxing Gibbous', 'Waxing Crescent' and 9 other columns\n",
    "    x = x.drop(columns=['Waxing Gibbous', 'Waxing Crescent', \n",
    "                                  'Waning Gibbous', 'Waning Crescent', \n",
    "                                  'New Moon', 'Last Quarter', 'Full Moon', \n",
    "                                  'First Quarter', 'Temperature/Cº', 'closing_price'])\n",
    "    return x"
   ]
  },
  {
   "cell_type": "markdown",
   "id": "37687ff3",
   "metadata": {},
   "source": []
  }
 ],
 "metadata": {
  "kernelspec": {
   "display_name": "Python 3 (ipykernel)",
   "language": "python",
   "name": "python3"
  },
  "language_info": {
   "codemirror_mode": {
    "name": "ipython",
    "version": 3
   },
   "file_extension": ".py",
   "mimetype": "text/x-python",
   "name": "python",
   "nbconvert_exporter": "python",
   "pygments_lexer": "ipython3",
   "version": "3.11.5"
  }
 },
 "nbformat": 4,
 "nbformat_minor": 5
}
